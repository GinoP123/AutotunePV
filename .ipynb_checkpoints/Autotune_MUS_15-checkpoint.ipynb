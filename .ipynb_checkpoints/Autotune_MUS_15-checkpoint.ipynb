{
 "cells": [
  {
   "cell_type": "markdown",
   "id": "1865fd35",
   "metadata": {},
   "source": [
    "# MUS 15 Project 1: Creating Autotune From Scratch Using Phase Vocoders"
   ]
  },
  {
   "cell_type": "markdown",
   "id": "3c492546",
   "metadata": {},
   "source": [
    "Gino Prasad, Saba Seradj, Ashish Dalvi"
   ]
  },
  {
   "cell_type": "markdown",
   "id": "52f491de",
   "metadata": {},
   "source": [
    "For our MUS 15 project, our group created an autotuner from scratch. All of the below code was made from scratch by us using python.\n",
    "\n",
    "#### This autotuner works using a Phase Vocoder to shift a given sound to a different pitch. Then we used Yin Pitch detection to determine the pitch for a given sound clip, and pitched to the nearest note."
   ]
  },
  {
   "cell_type": "markdown",
   "id": "32403ac5",
   "metadata": {},
   "source": [
    "Here are the resources we used to create this:"
   ]
  },
  {
   "cell_type": "markdown",
   "id": "654eb7ab",
   "metadata": {},
   "source": [
    "- Designing the Phase Vocoder: https://www.youtube.com/watch?v=xGmRaTaBNZA"
   ]
  },
  {
   "cell_type": "markdown",
   "id": "7b368e55",
   "metadata": {},
   "source": [
    "- Yin Pitch Prediction: http://audition.ens.fr/adc/pdf/2002_JASA_YIN.pdf"
   ]
  },
  {
   "cell_type": "markdown",
   "id": "be3d0222",
   "metadata": {},
   "source": [
    "# Autotuned Songs:"
   ]
  },
  {
   "cell_type": "markdown",
   "id": "0fd0e501",
   "metadata": {},
   "source": [
    "## \"Thinking Out Loud\" (Ed Sheeran) \n",
    "https://www.youtube.com/watch?v=byXb3KT1-3A\n",
    "- D major"
   ]
  },
  {
   "cell_type": "markdown",
   "id": "ea838faa",
   "metadata": {},
   "source": [
    "### Original Audio:  \n",
    "<audio controls>\n",
    "  <source src=\"/docs/assets/thinking_out_loud.wav\" type=\"audio/wav\">\n",
    "Your browser does not support the audio element.\n",
    "</audio>"
   ]
  },
  {
   "cell_type": "markdown",
   "id": "8e28044a",
   "metadata": {},
   "source": [
    "### Autotuned:  \n",
    "<audio controls>\n",
    "  <source src=\"/docs/assets/autotuned_thinking_out_loud.wav\" type=\"audio/wav\">\n",
    "Your browser does not support the audio element.\n",
    "</audio>"
   ]
  },
  {
   "cell_type": "markdown",
   "id": "13c59715",
   "metadata": {},
   "source": [
    "## \"I Heard It Through The Grapevine\" (Marvin Gaye): \n",
    "https://www.youtube.com/watch?v=87FjkqtK67o\n",
    "\n",
    "- D# minor"
   ]
  },
  {
   "cell_type": "markdown",
   "id": "fabd31e3",
   "metadata": {},
   "source": [
    "### Original Audio:  \n",
    "<audio controls>\n",
    "  <source src=\"/docs/assets/grapevine.wav\" type=\"audio/wav\">\n",
    "Your browser does not support the audio element.\n",
    "</audio>"
   ]
  },
  {
   "cell_type": "markdown",
   "id": "06382799",
   "metadata": {},
   "source": [
    "### Autotuned:  \n",
    "<audio controls>\n",
    "  <source src=\"/docs/assets/autotuned_grapevine.wav\" type=\"audio/wav\">\n",
    "Your browser does not support the audio element.\n",
    "</audio>"
   ]
  },
  {
   "cell_type": "markdown",
   "id": "552b0842",
   "metadata": {},
   "source": [
    "## \"Boy's a Liar Pt. 2\" (PinkPantheress, Ice Spice): \n",
    "https://www.youtube.com/watch?v=hu6RWntTJqs\n",
    "\n",
    "- C major"
   ]
  },
  {
   "cell_type": "markdown",
   "id": "675e3dad",
   "metadata": {},
   "source": [
    "#### Original Audio:  \n",
    "<audio controls>\n",
    "  <source src=\"/docs/assets/boys_a_liar.wav\" type=\"audio/wav\">\n",
    "Your browser does not support the audio element.\n",
    "</audio>"
   ]
  },
  {
   "cell_type": "markdown",
   "id": "6aa9c834",
   "metadata": {},
   "source": [
    "#### Autotuned:  \n",
    "<audio controls>\n",
    "  <source src=\"/docs/assets/autotuned_boys_a_liar.wav\" type=\"audio/wav\">\n",
    "Your browser does not support the audio element.\n",
    "</audio>"
   ]
  },
  {
   "cell_type": "markdown",
   "id": "af938f44",
   "metadata": {},
   "source": [
    "## \"Bad Romance\" (Lady Gaga) \n",
    "https://www.youtube.com/watch?v=iVD-S21ejSw\n",
    "- A minor"
   ]
  },
  {
   "cell_type": "markdown",
   "id": "f75e7eaf",
   "metadata": {},
   "source": [
    "### Original Audio:  \n",
    "<audio controls>\n",
    "  <source src=\"/docs/assets/bad_romance.wav\" type=\"audio/wav\">\n",
    "Your browser does not support the audio element.\n",
    "</audio>"
   ]
  },
  {
   "cell_type": "markdown",
   "id": "f79debac",
   "metadata": {},
   "source": [
    "### Autotuned:  \n",
    "<audio controls>\n",
    "  <source src=\"/docs/assets/autotuned_bad_romance.wav\" type=\"audio/wav\">\n",
    "Your browser does not support the audio element.\n",
    "</audio>"
   ]
  },
  {
   "cell_type": "markdown",
   "id": "8fbeb208",
   "metadata": {},
   "source": [
    "# Pitch Vocoder Demo"
   ]
  },
  {
   "cell_type": "markdown",
   "id": "e38933c7",
   "metadata": {},
   "source": [
    "The phase vocoder we made is able to scale the pitch of audio without changing its duration. \n",
    "\n",
    "Here is the original clip from \"I Heard It Through The Grapevine\" by Marvin Gaye"
   ]
  },
  {
   "cell_type": "markdown",
   "id": "ec5ceb42",
   "metadata": {},
   "source": [
    "### Original Audio (1x Pitch):  \n",
    "<audio controls>\n",
    "  <source src=\"/docs/assets/grapevine_1x.wav\" type=\"audio/wav\">\n",
    "Your browser does not support the audio element.\n",
    "</audio>"
   ]
  },
  {
   "cell_type": "markdown",
   "id": "1813d3fe",
   "metadata": {},
   "source": [
    "### 1.5x Pitch:  \n",
    "<audio controls>\n",
    "  <source src=\"/docs/assets/grapevine_1.5x.wav\" type=\"audio/wav\">\n",
    "Your browser does not support the audio element.\n",
    "</audio>"
   ]
  },
  {
   "cell_type": "markdown",
   "id": "97a8001f",
   "metadata": {},
   "source": [
    "### 0.75x Pitch:  \n",
    "<audio controls>\n",
    "  <source src=\"/docs/assets/grapevine_0.75x.wav\" type=\"audio/wav\">\n",
    "Your browser does not support the audio element.\n",
    "</audio>"
   ]
  }
 ],
 "metadata": {
  "kernelspec": {
   "display_name": "torch-gpu",
   "language": "python",
   "name": "torch-gpu"
  },
  "language_info": {
   "codemirror_mode": {
    "name": "ipython",
    "version": 3
   },
   "file_extension": ".py",
   "mimetype": "text/x-python",
   "name": "python",
   "nbconvert_exporter": "python",
   "pygments_lexer": "ipython3",
   "version": "3.9.13"
  }
 },
 "nbformat": 4,
 "nbformat_minor": 5
}
